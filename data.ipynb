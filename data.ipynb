{
 "cells": [
  {
   "cell_type": "code",
   "execution_count": 21,
   "metadata": {},
   "outputs": [],
   "source": [
    "import pandas as pd"
   ]
  },
  {
   "cell_type": "code",
   "execution_count": 22,
   "metadata": {},
   "outputs": [
    {
     "name": "stdout",
     "output_type": "stream",
     "text": [
      "           日付      1番      2番      3番      4番      5番      6番      7番      8番  \\\n",
      "0    3月25日(金)   今川 優馬   淺間 大基   石井 一成    松本 剛    ヌニエス   近藤 健介   佐藤 龍世  宇佐見 真吾   \n",
      "1    3月26日(土)  アルカンタラ    王 柏融   近藤 健介  清宮 幸太郎   石井 一成    ヌニエス   淺間 大基   清水 優心   \n",
      "2    3月27日(日)    渡邉 諒   近藤 健介  アルカンタラ  清宮 幸太郎    ヌニエス   佐藤 龍世    松本 剛    郡 拓也   \n",
      "3    3月29日(火)   近藤 健介    松本 剛   今川 優馬    ヌニエス   石井 一成   万波 中正  アルカンタラ   水野 達稀   \n",
      "4    3月30日(水)   淺間 大基    渡邉 諒   近藤 健介  清宮 幸太郎   石井 一成  アルカンタラ   万波 中正  宇佐見 真吾   \n",
      "..        ...     ...     ...     ...     ...     ...     ...     ...     ...   \n",
      "138  9月25日(日)  清宮 幸太郎   細川 凌平   近藤 健介   木村 文紀  上川畑 大悟   谷内 亮太  宇佐見 真吾   今川 優馬   \n",
      "139  9月26日(月)   細川 凌平   杉谷 拳士  五十幡 亮汰   近藤 健介  上川畑 大悟   谷内 亮太  アルカンタラ  宇佐見 真吾   \n",
      "140  9月27日(火)   細川 凌平  清宮 幸太郎   近藤 健介    松本 剛   野村 佑希  上川畑 大悟   今川 優馬   梅林 優貴   \n",
      "141  9月28日(水)  五十幡 亮汰   石井 一成   近藤 健介    王 柏融  清宮 幸太郎   野村 佑希  上川畑 大悟   古川 裕大   \n",
      "142  10月2日(日)  清宮 幸太郎  五十幡 亮汰   野村 佑希    松本 剛  上川畑 大悟   木村 文紀   杉谷 拳士  宇佐見 真吾   \n",
      "\n",
      "        9番 勝敗     スコア    対戦相手 先発投手 責任投手         球場     開始  \n",
      "0    水野 達稀  ●   1 - 4  ソフトバンク   北山  ●杉浦  PayPayドーム  18:30  \n",
      "1    水野 達稀  ●   3 - 6  ソフトバンク    堀  ●河野  PayPayドーム  14:00  \n",
      "2    万波 中正  ●   4 - 6  ソフトバンク   吉田  ●池田  PayPayドーム  13:00  \n",
      "3    清水 優心  ●   0 - 4      西武   上沢  ●上沢      札幌ドーム  18:30  \n",
      "4    佐藤 龍世  ●   3 - 5      西武   加藤  ●加藤      札幌ドーム  18:00  \n",
      "..     ... ..     ...     ...  ...  ...        ...    ...  \n",
      "138  中島 卓也  ●   0 - 6      楽天    達  ●松浦      札幌ドーム  18:00  \n",
      "139  石井 一成  ○   3 - 2      楽天   加藤  ○加藤      札幌ドーム  18:00  \n",
      "140  中島 卓也  ○  14 - 0     ロッテ   鈴木  ○鈴木      札幌ドーム  18:00  \n",
      "141  中島 卓也  ●  3 - 11     ロッテ   上沢  ●上沢      札幌ドーム  18:00  \n",
      "142  石井 一成  ○   4 - 2      西武   根本  ○根本    ベルーナドーム  18:00  \n",
      "\n",
      "[143 rows x 17 columns]\n"
     ]
    }
   ],
   "source": [
    "train_df = pd.read_csv('data/stamen/StamenData_22.csv')\n",
    "test_df = pd.read_csv('data/stamen/StamenData_21.csv')\n",
    "print(train_df)"
   ]
  },
  {
   "attachments": {},
   "cell_type": "markdown",
   "metadata": {},
   "source": [
    "## データの整形"
   ]
  },
  {
   "cell_type": "code",
   "execution_count": 23,
   "metadata": {},
   "outputs": [],
   "source": [
    "train_df = train_df.drop([\"日付\",\"スコア\",\"責任投手\"], axis=1)\n",
    "test_df = test_df.drop([\"日付\",\"スコア\",\"責任投手\"], axis=1)"
   ]
  },
  {
   "cell_type": "code",
   "execution_count": 24,
   "metadata": {},
   "outputs": [
    {
     "name": "stdout",
     "output_type": "stream",
     "text": [
      "['PayPayドーム' '札幌ドーム' '京セラD大阪' 'ベルーナドーム' 'ZOZOマリン' '楽天生命パーク' '東京ドーム'\n",
      " 'ほっと神戸' '神宮' 'マツダスタジアム' '甲子園' '秋田' '盛岡' '静岡' '旭川' '釧路' '帯広']\n"
     ]
    }
   ],
   "source": [
    "# 球場の置換\n",
    "print(train_df[\"球場\"].unique())\n",
    "train_df[\"球場\"] = pd.factorize(train_df[\"球場\"])[0]\n",
    "test_df[\"球場\"] = pd.factorize(test_df[\"球場\"])[0]"
   ]
  },
  {
   "cell_type": "code",
   "execution_count": 25,
   "metadata": {},
   "outputs": [
    {
     "name": "stdout",
     "output_type": "stream",
     "text": [
      "['ソフトバンク' '西武' 'オリックス' 'ロッテ' '楽天' 'ヤクルト' '巨人' '広島' '阪神' 'DeNA' '中日']\n"
     ]
    }
   ],
   "source": [
    "# チームの置換\n",
    "print(train_df[\"対戦相手\"].unique())\n",
    "train_df[\"対戦相手\"] = pd.factorize(train_df[\"対戦相手\"])[0]\n",
    "test_df[\"対戦相手\"] = pd.factorize(test_df[\"対戦相手\"])[0]"
   ]
  },
  {
   "cell_type": "code",
   "execution_count": 26,
   "metadata": {},
   "outputs": [],
   "source": [
    "#開始時刻の変換\n",
    "train_df[\"開始\"] = train_df[\"開始\"].str[:2]\n",
    "test_df[\"開始\"] = test_df[\"開始\"].str[:2]\n"
   ]
  },
  {
   "cell_type": "code",
   "execution_count": 27,
   "metadata": {},
   "outputs": [
    {
     "name": "stdout",
     "output_type": "stream",
     "text": [
      "['●' '○' '△']\n"
     ]
    }
   ],
   "source": [
    "# 勝敗の置換\n",
    "print(train_df[\"勝敗\"].unique())\n",
    "train_df[\"勝敗\"] = pd.factorize(train_df[\"勝敗\"])[0]\n",
    "test_df[\"勝敗\"] = pd.factorize(test_df[\"勝敗\"])[0]"
   ]
  },
  {
   "cell_type": "code",
   "execution_count": 28,
   "metadata": {},
   "outputs": [
    {
     "name": "stdout",
     "output_type": "stream",
     "text": [
      "         1番     2番      3番     4番     5番      6番      7番     8番    9番  勝敗  \\\n",
      "0      今川優馬   淺間大基    石井一成    松本剛   ヌニエス    近藤健介    佐藤龍世  宇佐見真吾  水野達稀   0   \n",
      "1    アルカンタラ    王柏融    近藤健介  清宮幸太郎   石井一成    ヌニエス    淺間大基   清水優心  水野達稀   0   \n",
      "2       渡邉諒   近藤健介  アルカンタラ  清宮幸太郎   ヌニエス    佐藤龍世     松本剛    郡拓也  万波中正   0   \n",
      "3      近藤健介    松本剛    今川優馬   ヌニエス   石井一成    万波中正  アルカンタラ   水野達稀  清水優心   0   \n",
      "4      淺間大基    渡邉諒    近藤健介  清宮幸太郎   石井一成  アルカンタラ    万波中正  宇佐見真吾  佐藤龍世   0   \n",
      "..      ...    ...     ...    ...    ...     ...     ...    ...   ...  ..   \n",
      "138   清宮幸太郎   細川凌平    近藤健介   木村文紀  上川畑大悟    谷内亮太   宇佐見真吾   今川優馬  中島卓也   0   \n",
      "139    細川凌平   杉谷拳士   五十幡亮汰   近藤健介  上川畑大悟    谷内亮太  アルカンタラ  宇佐見真吾  石井一成   1   \n",
      "140    細川凌平  清宮幸太郎    近藤健介    松本剛   野村佑希   上川畑大悟    今川優馬   梅林優貴  中島卓也   1   \n",
      "141   五十幡亮汰   石井一成    近藤健介    王柏融  清宮幸太郎    野村佑希   上川畑大悟   古川裕大  中島卓也   0   \n",
      "142   清宮幸太郎  五十幡亮汰    野村佑希    松本剛  上川畑大悟    木村文紀    杉谷拳士  宇佐見真吾  石井一成   1   \n",
      "\n",
      "     対戦相手 先発投手  球場  開始  \n",
      "0       0   北山   0  18  \n",
      "1       0    堀   0  14  \n",
      "2       0   吉田   0  13  \n",
      "3       1   上沢   1  18  \n",
      "4       1   加藤   1  18  \n",
      "..    ...  ...  ..  ..  \n",
      "138     4    達   1  18  \n",
      "139     4   加藤   1  18  \n",
      "140     3   鈴木   1  18  \n",
      "141     3   上沢   1  18  \n",
      "142     1   根本   3  18  \n",
      "\n",
      "[143 rows x 14 columns]\n"
     ]
    }
   ],
   "source": [
    "for i in range(9):\n",
    "    train_df[f\"{i+1}番\"] = train_df[f\"{i+1}番\"].str.replace(\" \",\"\")\n",
    "    test_df[f\"{i+1}番\"] = test_df[f\"{i+1}番\"].str.replace(\" \",\"\")\n",
    "\n",
    "print(train_df)\n"
   ]
  },
  {
   "attachments": {},
   "cell_type": "markdown",
   "metadata": {},
   "source": [
    "### 野手・投手情報以外のデータを抽出"
   ]
  },
  {
   "cell_type": "code",
   "execution_count": 29,
   "metadata": {},
   "outputs": [],
   "source": [
    "train_else_df = train_df[[\"勝敗\",\"対戦相手\",\"球場\",\"開始\"]]\n",
    "test_else_df = test_df[[\"勝敗\",\"対戦相手\",\"球場\",\"開始\"]]"
   ]
  },
  {
   "attachments": {},
   "cell_type": "markdown",
   "metadata": {},
   "source": [
    "### スタメンデータの選手名を指標に変換"
   ]
  },
  {
   "cell_type": "code",
   "execution_count": 30,
   "metadata": {},
   "outputs": [],
   "source": [
    "hitter22_df = pd.read_csv('data/hitter/HitterData_22.csv')\n",
    "hitter21_df = pd.read_csv('data/hitter/HitterData_21.csv')\n",
    "hitter22_df[\"選手名\"] = hitter22_df[\"選手名\"].str.replace(\"　\",\"\")\n",
    "hitter21_df[\"選手名\"] = hitter21_df[\"選手名\"].str.replace(\"　\",\"\")\n",
    "hitter22_df = hitter22_df.drop([\"順位\", \"チーム\"],axis=1)\n",
    "hitter21_df = hitter21_df.drop([\"順位\", \"チーム\"],axis=1)"
   ]
  },
  {
   "cell_type": "code",
   "execution_count": 31,
   "metadata": {},
   "outputs": [
    {
     "name": "stdout",
     "output_type": "stream",
     "text": [
      "         1番     2番      3番     4番     5番      6番      7番     8番    9番\n",
      "0      今川優馬   淺間大基    石井一成    松本剛   ヌニエス    近藤健介    佐藤龍世  宇佐見真吾  水野達稀\n",
      "1    アルカンタラ    王柏融    近藤健介  清宮幸太郎   石井一成    ヌニエス    淺間大基   清水優心  水野達稀\n",
      "2       渡邉諒   近藤健介  アルカンタラ  清宮幸太郎   ヌニエス    佐藤龍世     松本剛    郡拓也  万波中正\n",
      "3      近藤健介    松本剛    今川優馬   ヌニエス   石井一成    万波中正  アルカンタラ   水野達稀  清水優心\n",
      "4      淺間大基    渡邉諒    近藤健介  清宮幸太郎   石井一成  アルカンタラ    万波中正  宇佐見真吾  佐藤龍世\n",
      "..      ...    ...     ...    ...    ...     ...     ...    ...   ...\n",
      "138   清宮幸太郎   細川凌平    近藤健介   木村文紀  上川畑大悟    谷内亮太   宇佐見真吾   今川優馬  中島卓也\n",
      "139    細川凌平   杉谷拳士   五十幡亮汰   近藤健介  上川畑大悟    谷内亮太  アルカンタラ  宇佐見真吾  石井一成\n",
      "140    細川凌平  清宮幸太郎    近藤健介    松本剛   野村佑希   上川畑大悟    今川優馬   梅林優貴  中島卓也\n",
      "141   五十幡亮汰   石井一成    近藤健介    王柏融  清宮幸太郎    野村佑希   上川畑大悟   古川裕大  中島卓也\n",
      "142   清宮幸太郎  五十幡亮汰    野村佑希    松本剛  上川畑大悟    木村文紀    杉谷拳士  宇佐見真吾  石井一成\n",
      "\n",
      "[143 rows x 9 columns]\n"
     ]
    }
   ],
   "source": [
    "train_stamen_df = train_df[[\"{}番\".format(x + 1) for x in range(9)]]\n",
    "test_stamen_df = test_df[[\"{}番\".format(x + 1) for x in range(9)]]\n",
    "print(train_stamen_df)"
   ]
  },
  {
   "cell_type": "code",
   "execution_count": 32,
   "metadata": {},
   "outputs": [],
   "source": [
    "# スタメン->指標情報に変換\n",
    "for i in range(9):\n",
    "    train_stamen_df = pd.merge(train_stamen_df, hitter22_df, left_on=f\"{i+1}番\", right_on=\"選手名\", how=\"left\", suffixes=(None, f\"_{i+1}\")).drop([\"選手名\",f\"{i+1}番\"], axis=1)\n",
    "    test_stamen_df = pd.merge(test_stamen_df, hitter21_df, left_on=f\"{i+1}番\", right_on=\"選手名\", how=\"left\", suffixes=(None, f\"_{i+1}\")).drop([\"選手名\",f\"{i+1}番\"], axis=1)\n"
   ]
  },
  {
   "cell_type": "code",
   "execution_count": 33,
   "metadata": {},
   "outputs": [],
   "source": [
    "#csvに変換\n",
    "train_stamen_df.to_csv(\"data/input_data/hitter_data.csv\")"
   ]
  },
  {
   "attachments": {},
   "cell_type": "markdown",
   "metadata": {},
   "source": [
    "### 投手名を指標へ置換"
   ]
  },
  {
   "cell_type": "code",
   "execution_count": 34,
   "metadata": {},
   "outputs": [
    {
     "name": "stdout",
     "output_type": "stream",
     "text": [
      "0      北山\n",
      "1       堀\n",
      "2      吉田\n",
      "3      上沢\n",
      "4      加藤\n",
      "       ..\n",
      "138     達\n",
      "139    加藤\n",
      "140    鈴木\n",
      "141    上沢\n",
      "142    根本\n",
      "Name: 先発投手, Length: 143, dtype: object\n"
     ]
    }
   ],
   "source": [
    "train_pitch_df = train_df[\"先発投手\"]\n",
    "test_pitch_df = test_df[\"先発投手\"]\n",
    "print(train_pitch_df)"
   ]
  },
  {
   "cell_type": "code",
   "execution_count": 35,
   "metadata": {},
   "outputs": [],
   "source": [
    "pitcher22_df = pd.read_csv('data/Pitcher/PitcherData_22.csv')\n",
    "pitcher21_df = pd.read_csv('data/Pitcher/PitcherData_21.csv')\n",
    "pitcher22_df[\"選手名\"] = pitcher22_df[\"選手名\"].str.split(\"　\").str.get(0)\n",
    "pitcher22_df = pitcher22_df[pitcher22_df[\"チーム\"]==\"日本ハム\"]\n",
    "pitcher22_df = pitcher22_df.drop([\"順位\", \"チーム\"],axis=1)\n",
    "pitcher21_df[\"選手名\"] = pitcher21_df[\"選手名\"].str.split(\"　\").str.get(0)\n",
    "pitcher21_df = pitcher21_df[pitcher21_df[\"チーム\"]==\"日本ハム\"]\n",
    "pitcher21_df = pitcher21_df.drop([\"順位\", \"チーム\"],axis=1)\n",
    "#Pitcher21_df = Pitcher21_df.drop([\"順位\", \"チーム\"],axis=1)"
   ]
  },
  {
   "cell_type": "code",
   "execution_count": 36,
   "metadata": {},
   "outputs": [
    {
     "name": "stdout",
     "output_type": "stream",
     "text": [
      "      防御率   勝利   敗北  セlブ  ホlルド    投球回    被安打  被本塁打  与四死球    奪三振   自責点  WHIP  \\\n",
      "0    3.51  3.0  5.0  9.0  16.0   51.1   37.0   3.0  32.0   58.0  20.0  1.27   \n",
      "1    5.82  1.0  5.0  5.0  11.0   34.0   41.0   4.0  19.0   34.0  22.0  1.68   \n",
      "2    4.26  2.0  3.0  0.0   5.0   63.1   53.0   5.0  24.0   40.0  30.0  1.20   \n",
      "3    3.38  8.0  9.0  0.0   0.0  152.0  129.0  15.0  59.0  127.0  57.0  1.18   \n",
      "4    2.01  8.0  7.0  0.0   1.0  147.2  124.0   9.0  12.0   98.0  33.0  0.91   \n",
      "..    ...  ...  ...  ...   ...    ...    ...   ...   ...    ...   ...   ...   \n",
      "138  0.00  0.0  0.0  0.0   0.0    3.0    1.0   0.0   3.0    0.0   0.0  1.33   \n",
      "139  2.01  8.0  7.0  0.0   1.0  147.2  124.0   9.0  12.0   98.0  33.0  0.91   \n",
      "140  2.84  2.0  1.0  0.0   3.0   38.0   33.0   2.0  17.0   25.0  12.0  1.21   \n",
      "141  3.38  8.0  9.0  0.0   0.0  152.0  129.0  15.0  59.0  127.0  57.0  1.18   \n",
      "142  2.52  3.0  3.0  0.0   1.0   60.2   52.0   8.0  28.0   53.0  17.0  1.25   \n",
      "\n",
      "      被安打率  被本打率   奪三振率  与四死率  DIPS  K/BB   HldR   PFR  \n",
      "0     6.49  0.53  10.17  5.61  3.43  2.07   .742  1.68  \n",
      "1    10.85  1.06   9.00  5.03  4.33  2.13   .679  1.47  \n",
      "2     7.53  0.71   5.68  3.41  4.02  1.74   .653  0.99  \n",
      "3     7.64  0.89   7.52  3.49  3.90  2.54   .757  1.16  \n",
      "4     7.56  0.55   5.97  0.73  2.83  8.91   .811  0.74  \n",
      "..     ...   ...    ...   ...   ...   ...    ...   ...  \n",
      "138   3.00  0.00   0.00  9.00  6.12  0.00  1.000  1.00  \n",
      "139   7.56  0.55   5.97  0.73  2.83  8.91   .811  0.74  \n",
      "140   7.82  0.47   5.92  4.03  3.67  1.92   .792  1.00  \n",
      "141   7.64  0.89   7.52  3.49  3.90  2.54   .757  1.16  \n",
      "142   7.71  1.19   7.86  4.15  4.47  2.21   .875  1.27  \n",
      "\n",
      "[143 rows x 20 columns]\n"
     ]
    }
   ],
   "source": [
    "train_pitch_df = pd.merge(train_pitch_df, pitcher22_df, left_on=\"先発投手\", right_on=\"選手名\", how=\"left\", suffixes=(None, f\"_{i+1}\")).drop([\"選手名\",\"先発投手\"], axis=1)\n",
    "test_pitch_df = pd.merge(test_pitch_df, pitcher21_df, left_on=\"先発投手\", right_on=\"選手名\", how=\"left\", suffixes=(None, f\"_{i+1}\")).drop([\"選手名\",\"先発投手\"], axis=1)\n",
    "print(train_pitch_df)"
   ]
  },
  {
   "cell_type": "code",
   "execution_count": 37,
   "metadata": {},
   "outputs": [],
   "source": [
    "#csvに変換\n",
    "train_pitch_df.to_csv(\"data/input_data/pitcher_data.csv\")"
   ]
  },
  {
   "attachments": {},
   "cell_type": "markdown",
   "metadata": {},
   "source": [
    "### 野手情報・投手情報・試合情報を結合"
   ]
  },
  {
   "cell_type": "code",
   "execution_count": 40,
   "metadata": {},
   "outputs": [],
   "source": [
    "train_data_df = pd.concat([train_else_df, train_stamen_df, train_pitch_df],axis=1)\n",
    "test_data_df = pd.concat([test_else_df, test_stamen_df, test_pitch_df],axis=1)"
   ]
  },
  {
   "cell_type": "code",
   "execution_count": 41,
   "metadata": {},
   "outputs": [],
   "source": [
    "#csvに変換\n",
    "train_data_df.to_csv(\"data/input_data/data.csv\")\n",
    "test_data_df.to_csv(\"data/input_data/test_data.csv\")"
   ]
  },
  {
   "attachments": {},
   "cell_type": "markdown",
   "metadata": {},
   "source": [
    "## 次回やること\n",
    "* test_data\n",
    "    * 欠損値を補う\n",
    "* 機械学習部分作成"
   ]
  },
  {
   "attachments": {},
   "cell_type": "markdown",
   "metadata": {},
   "source": [
    "## 機械学習"
   ]
  },
  {
   "cell_type": "code",
   "execution_count": null,
   "metadata": {},
   "outputs": [],
   "source": []
  }
 ],
 "metadata": {
  "kernelspec": {
   "display_name": "Python 3",
   "language": "python",
   "name": "python3"
  },
  "language_info": {
   "codemirror_mode": {
    "name": "ipython",
    "version": 3
   },
   "file_extension": ".py",
   "mimetype": "text/x-python",
   "name": "python",
   "nbconvert_exporter": "python",
   "pygments_lexer": "ipython3",
   "version": "3.9.11"
  },
  "orig_nbformat": 4,
  "vscode": {
   "interpreter": {
    "hash": "d8bbe5368e942f6ab728c55166233bc20c4e87bd64f9cdf808c45fd6a373a9b7"
   }
  }
 },
 "nbformat": 4,
 "nbformat_minor": 2
}
