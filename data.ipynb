{
 "cells": [
  {
   "cell_type": "code",
   "execution_count": 1,
   "metadata": {},
   "outputs": [],
   "source": [
    "import pandas as pd"
   ]
  },
  {
   "cell_type": "code",
   "execution_count": 3,
   "metadata": {},
   "outputs": [
    {
     "name": "stdout",
     "output_type": "stream",
     "text": [
      "           日付      1番      2番      3番      4番      5番      6番      7番      8番  \\\n",
      "0    3月25日(金)   今川 優馬   淺間 大基   石井 一成    松本 剛    ヌニエス   近藤 健介   佐藤 龍世  宇佐見 真吾   \n",
      "1    3月26日(土)  アルカンタラ    王 柏融   近藤 健介  清宮 幸太郎   石井 一成    ヌニエス   淺間 大基   清水 優心   \n",
      "2    3月27日(日)    渡邉 諒   近藤 健介  アルカンタラ  清宮 幸太郎    ヌニエス   佐藤 龍世    松本 剛    郡 拓也   \n",
      "3    3月29日(火)   近藤 健介    松本 剛   今川 優馬    ヌニエス   石井 一成   万波 中正  アルカンタラ   水野 達稀   \n",
      "4    3月30日(水)   淺間 大基    渡邉 諒   近藤 健介  清宮 幸太郎   石井 一成  アルカンタラ   万波 中正  宇佐見 真吾   \n",
      "..        ...     ...     ...     ...     ...     ...     ...     ...     ...   \n",
      "138  9月25日(日)  清宮 幸太郎   細川 凌平   近藤 健介   木村 文紀  上川畑 大悟   谷内 亮太  宇佐見 真吾   今川 優馬   \n",
      "139  9月26日(月)   細川 凌平   杉谷 拳士  五十幡 亮汰   近藤 健介  上川畑 大悟   谷内 亮太  アルカンタラ  宇佐見 真吾   \n",
      "140  9月27日(火)   細川 凌平  清宮 幸太郎   近藤 健介    松本 剛   野村 佑希  上川畑 大悟   今川 優馬   梅林 優貴   \n",
      "141  9月28日(水)  五十幡 亮汰   石井 一成   近藤 健介    王 柏融  清宮 幸太郎   野村 佑希  上川畑 大悟   古川 裕大   \n",
      "142  10月2日(日)  清宮 幸太郎  五十幡 亮汰   野村 佑希    松本 剛  上川畑 大悟   木村 文紀   杉谷 拳士  宇佐見 真吾   \n",
      "\n",
      "        9番 勝敗     スコア    対戦相手 先発投手 責任投手         球場     開始  \n",
      "0    水野 達稀  ●   1 - 4  ソフトバンク   北山  ●杉浦  PayPayドーム  18:30  \n",
      "1    水野 達稀  ●   3 - 6  ソフトバンク    堀  ●河野  PayPayドーム  14:00  \n",
      "2    万波 中正  ●   4 - 6  ソフトバンク   吉田  ●池田  PayPayドーム  13:00  \n",
      "3    清水 優心  ●   0 - 4      西武   上沢  ●上沢      札幌ドーム  18:30  \n",
      "4    佐藤 龍世  ●   3 - 5      西武   加藤  ●加藤      札幌ドーム  18:00  \n",
      "..     ... ..     ...     ...  ...  ...        ...    ...  \n",
      "138  中島 卓也  ●   0 - 6      楽天    達  ●松浦      札幌ドーム  18:00  \n",
      "139  石井 一成  ○   3 - 2      楽天   加藤  ○加藤      札幌ドーム  18:00  \n",
      "140  中島 卓也  ○  14 - 0     ロッテ   鈴木  ○鈴木      札幌ドーム  18:00  \n",
      "141  中島 卓也  ●  3 - 11     ロッテ   上沢  ●上沢      札幌ドーム  18:00  \n",
      "142  石井 一成  ○   4 - 2      西武   根本  ○根本    ベルーナドーム  18:00  \n",
      "\n",
      "[143 rows x 17 columns]\n"
     ]
    }
   ],
   "source": [
    "st_df = pd.read_csv('data/stamen/StamenData22.csv')\n",
    "print(st_df)"
   ]
  },
  {
   "cell_type": "code",
   "execution_count": null,
   "metadata": {},
   "outputs": [],
   "source": [
    "st_df = st_df.drop([\"スコア\",\"責任投手\"])"
   ]
  }
 ],
 "metadata": {
  "kernelspec": {
   "display_name": "Python 3",
   "language": "python",
   "name": "python3"
  },
  "language_info": {
   "codemirror_mode": {
    "name": "ipython",
    "version": 3
   },
   "file_extension": ".py",
   "mimetype": "text/x-python",
   "name": "python",
   "nbconvert_exporter": "python",
   "pygments_lexer": "ipython3",
   "version": "3.9.11"
  },
  "orig_nbformat": 4,
  "vscode": {
   "interpreter": {
    "hash": "d8bbe5368e942f6ab728c55166233bc20c4e87bd64f9cdf808c45fd6a373a9b7"
   }
  }
 },
 "nbformat": 4,
 "nbformat_minor": 2
}
